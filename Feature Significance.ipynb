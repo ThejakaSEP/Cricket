{
 "cells": [
  {
   "cell_type": "code",
   "execution_count": null,
   "id": "db9cdf88",
   "metadata": {},
   "outputs": [],
   "source": [
    "pip install sklearn matplotlib"
   ]
  },
  {
   "cell_type": "code",
   "execution_count": null,
   "id": "4b6b7f87",
   "metadata": {},
   "outputs": [],
   "source": []
  },
  {
   "cell_type": "code",
   "execution_count": 96,
   "id": "7d7d9ad4",
   "metadata": {},
   "outputs": [],
   "source": [
    "import numpy as np\n",
    "import pandas as pd\n",
    "\n",
    "import matplotlib.pyplot as plt\n",
    "from sklearn.inspection import permutation_importance\n",
    "\n",
    "#For Machine Learning Algorithms\n",
    "from sklearn.ensemble import RandomForestClassifier\n",
    "from sklearn.model_selection import train_test_split\n",
    "from sklearn.metrics import accuracy_score\n",
    "\n",
    "from sklearn.linear_model import LogisticRegression\n",
    "from sklearn.tree import DecisionTreeClassifier\n",
    "from sklearn.neighbors import KNeighborsClassifier\n",
    "from sklearn.discriminant_analysis import LinearDiscriminantAnalysis\n",
    "from sklearn.naive_bayes import GaussianNB\n",
    "from sklearn.svm import SVC\n",
    "from sklearn.linear_model import LinearRegression\n",
    "\n",
    "from sklearn.model_selection import StratifiedKFold\n",
    "from sklearn.model_selection import cross_val_score"
   ]
  },
  {
   "cell_type": "code",
   "execution_count": 60,
   "id": "b3710fc3",
   "metadata": {},
   "outputs": [],
   "source": [
    "pd.set_option('display.max_rows',229)"
   ]
  },
  {
   "cell_type": "code",
   "execution_count": 61,
   "id": "d3fc386b",
   "metadata": {},
   "outputs": [],
   "source": [
    "df = pd.read_csv('/Users/thejakamahaulpatha/PycharmProjects/Cricket Project/Dataset/matchstatsl.csv')"
   ]
  },
  {
   "cell_type": "code",
   "execution_count": 62,
   "id": "5594724d",
   "metadata": {},
   "outputs": [
    {
     "data": {
      "text/plain": [
       "(228, 11)"
      ]
     },
     "execution_count": 62,
     "metadata": {},
     "output_type": "execute_result"
    }
   ],
   "source": [
    "df.shape"
   ]
  },
  {
   "cell_type": "code",
   "execution_count": 63,
   "id": "b3f3595d",
   "metadata": {},
   "outputs": [
    {
     "data": {
      "text/html": [
       "<div>\n",
       "<style scoped>\n",
       "    .dataframe tbody tr th:only-of-type {\n",
       "        vertical-align: middle;\n",
       "    }\n",
       "\n",
       "    .dataframe tbody tr th {\n",
       "        vertical-align: top;\n",
       "    }\n",
       "\n",
       "    .dataframe thead th {\n",
       "        text-align: right;\n",
       "    }\n",
       "</style>\n",
       "<table border=\"1\" class=\"dataframe\">\n",
       "  <thead>\n",
       "    <tr style=\"text-align: right;\">\n",
       "      <th></th>\n",
       "      <th>web-scraper-order</th>\n",
       "      <th>web-scraper-start-url</th>\n",
       "      <th>Team</th>\n",
       "      <th>Score</th>\n",
       "      <th>Overs</th>\n",
       "      <th>RPO</th>\n",
       "      <th>Inns</th>\n",
       "      <th>Result</th>\n",
       "      <th>Opposition</th>\n",
       "      <th>Ground</th>\n",
       "      <th>Start Date</th>\n",
       "    </tr>\n",
       "  </thead>\n",
       "  <tbody>\n",
       "    <tr>\n",
       "      <th>0</th>\n",
       "      <td>1620568628-1502</td>\n",
       "      <td>https://stats.espncricinfo.com/ci/engine/stats...</td>\n",
       "      <td>Sri Lanka</td>\n",
       "      <td>DNB</td>\n",
       "      <td>0.0</td>\n",
       "      <td>-</td>\n",
       "      <td>0</td>\n",
       "      <td>n/r</td>\n",
       "      <td>v Zimbabwe</td>\n",
       "      <td>Bulawayo</td>\n",
       "      <td>21 Nov 2016</td>\n",
       "    </tr>\n",
       "    <tr>\n",
       "      <th>1</th>\n",
       "      <td>1620568628-1485</td>\n",
       "      <td>https://stats.espncricinfo.com/ci/engine/stats...</td>\n",
       "      <td>Sri Lanka</td>\n",
       "      <td>121</td>\n",
       "      <td>27.0</td>\n",
       "      <td>4.48</td>\n",
       "      <td>2</td>\n",
       "      <td>lost</td>\n",
       "      <td>v England</td>\n",
       "      <td>The Oval</td>\n",
       "      <td>28 Jun 2011</td>\n",
       "    </tr>\n",
       "    <tr>\n",
       "      <th>2</th>\n",
       "      <td>1620568650-1656</td>\n",
       "      <td>https://stats.espncricinfo.com/ci/engine/stats...</td>\n",
       "      <td>Sri Lanka</td>\n",
       "      <td>208/7</td>\n",
       "      <td>49.0</td>\n",
       "      <td>4.24</td>\n",
       "      <td>2</td>\n",
       "      <td>won</td>\n",
       "      <td>v Bangladesh</td>\n",
       "      <td>Dhaka</td>\n",
       "      <td>6 Mar 2014</td>\n",
       "    </tr>\n",
       "    <tr>\n",
       "      <th>3</th>\n",
       "      <td>1620568650-1637</td>\n",
       "      <td>https://stats.espncricinfo.com/ci/engine/stats...</td>\n",
       "      <td>Sri Lanka</td>\n",
       "      <td>223/9</td>\n",
       "      <td>49.2</td>\n",
       "      <td>4.52</td>\n",
       "      <td>1</td>\n",
       "      <td>won</td>\n",
       "      <td>v South Africa</td>\n",
       "      <td>Colombo (RPS)</td>\n",
       "      <td>23 Jul 2013</td>\n",
       "    </tr>\n",
       "    <tr>\n",
       "      <th>4</th>\n",
       "      <td>1620568650-1600</td>\n",
       "      <td>https://stats.espncricinfo.com/ci/engine/stats...</td>\n",
       "      <td>Sri Lanka</td>\n",
       "      <td>248/8</td>\n",
       "      <td>49.4</td>\n",
       "      <td>4.99</td>\n",
       "      <td>2</td>\n",
       "      <td>won</td>\n",
       "      <td>v Pakistan</td>\n",
       "      <td>Colombo (RPS)</td>\n",
       "      <td>18 Jun 2012</td>\n",
       "    </tr>\n",
       "  </tbody>\n",
       "</table>\n",
       "</div>"
      ],
      "text/plain": [
       "  web-scraper-order                              web-scraper-start-url  \\\n",
       "0   1620568628-1502  https://stats.espncricinfo.com/ci/engine/stats...   \n",
       "1   1620568628-1485  https://stats.espncricinfo.com/ci/engine/stats...   \n",
       "2   1620568650-1656  https://stats.espncricinfo.com/ci/engine/stats...   \n",
       "3   1620568650-1637  https://stats.espncricinfo.com/ci/engine/stats...   \n",
       "4   1620568650-1600  https://stats.espncricinfo.com/ci/engine/stats...   \n",
       "\n",
       "        Team  Score  Overs   RPO  Inns Result      Opposition         Ground  \\\n",
       "0  Sri Lanka    DNB    0.0     -     0    n/r      v Zimbabwe       Bulawayo   \n",
       "1  Sri Lanka    121   27.0  4.48     2   lost       v England       The Oval   \n",
       "2  Sri Lanka  208/7   49.0  4.24     2    won    v Bangladesh          Dhaka   \n",
       "3  Sri Lanka  223/9   49.2  4.52     1    won  v South Africa  Colombo (RPS)   \n",
       "4  Sri Lanka  248/8   49.4  4.99     2    won      v Pakistan  Colombo (RPS)   \n",
       "\n",
       "    Start Date  \n",
       "0  21 Nov 2016  \n",
       "1  28 Jun 2011  \n",
       "2   6 Mar 2014  \n",
       "3  23 Jul 2013  \n",
       "4  18 Jun 2012  "
      ]
     },
     "execution_count": 63,
     "metadata": {},
     "output_type": "execute_result"
    }
   ],
   "source": [
    "df.head()"
   ]
  },
  {
   "cell_type": "code",
   "execution_count": 78,
   "id": "75ea5564",
   "metadata": {},
   "outputs": [
    {
     "data": {
      "text/plain": [
       "array([4.48, 4.24, 4.52, 4.99, 5.28, 5.  , 4.73, 5.37, 5.04, 5.63, 5.92,\n",
       "       4.88, 4.6 , 7.14, 6.41, 5.74, 4.91, 3.89, 6.4 , 6.24, 7.84, 4.53,\n",
       "       4.98, 6.  , 3.82, 5.62, 5.17, 4.8 , 5.86, 5.08, 5.48, 4.26, 4.11,\n",
       "       5.06, 4.31, 5.02, 4.38, 4.96, 4.64, 6.39, 5.72, 6.32, 4.85, 5.94,\n",
       "       4.81, 4.54, 4.34, 5.15, 5.77, 2.13, 4.89, 3.91, 3.75, 6.14, 7.32,\n",
       "       3.56, 3.98, 5.84, 4.3 , 5.98, 5.21, 4.28, 4.22, 3.85, 4.2 , 5.53,\n",
       "       5.6 , 6.34, 4.14, 6.04, 5.65, 3.23, 5.89, 6.28, 5.46, 4.  , 5.97,\n",
       "       7.26, 4.86, 5.41, 4.43, 6.29, 6.2 , 5.43, 2.79, 4.65, 6.59, 6.18,\n",
       "       5.16, 6.11, 5.1 , 5.45, 4.72, 6.64, 4.97, 4.42, 4.39, 6.44, 7.36,\n",
       "       6.65, 4.1 , 4.59, 5.12, 6.6 , 3.83, 4.4 , 5.59, 4.58, 7.  , 5.57,\n",
       "       3.5 , 6.43, 5.76, 5.78, 4.82, 6.3 , 3.62, 4.76, 4.36, 5.88, 4.18,\n",
       "       5.73, 4.83, 4.5 , 6.76, 3.64, 5.38, 7.54, 6.26, 5.51, 4.66, 5.68,\n",
       "       3.21, 6.67, 7.01, 6.9 , 3.96, 6.78, 6.61, 3.73, 4.7 , 4.87, 4.95,\n",
       "       6.73, 4.93, 6.96, 5.81, 4.06, 6.06, 5.23, 3.41, 5.34, 6.16, 5.18,\n",
       "       4.63, 5.67, 4.79, 4.78, 6.91, 5.32])"
      ]
     },
     "execution_count": 78,
     "metadata": {},
     "output_type": "execute_result"
    }
   ],
   "source": [
    "#Remove the first rows with '-' as it as no result and cannot convert to int as well\n",
    "\n",
    "#Create a null array to include the indexes where '-' exists\n",
    "index = []\n",
    "for i in range(len(df.index)):\n",
    "    if df['RPO'].values[i] == \"-\":\n",
    "        index.append(i)\n",
    "\n",
    "# Drop the rows where the '-' is located\n",
    "for j in index:\n",
    "    df = df.drop(j)\n",
    "\n",
    "df['RPO'].unique()   \n",
    "    "
   ]
  },
  {
   "cell_type": "code",
   "execution_count": 65,
   "id": "fbecf5e3",
   "metadata": {},
   "outputs": [
    {
     "data": {
      "text/plain": [
       "(223, 11)"
      ]
     },
     "execution_count": 65,
     "metadata": {},
     "output_type": "execute_result"
    }
   ],
   "source": [
    "df.shape"
   ]
  },
  {
   "cell_type": "code",
   "execution_count": 66,
   "id": "06679c99",
   "metadata": {},
   "outputs": [
    {
     "data": {
      "text/plain": [
       "array(['lost', 'won', 'n/r', 'tied'], dtype=object)"
      ]
     },
     "execution_count": 66,
     "metadata": {},
     "output_type": "execute_result"
    }
   ],
   "source": [
    "result1 = df['Result'].unique()\n",
    "result1"
   ]
  },
  {
   "cell_type": "code",
   "execution_count": 67,
   "id": "d77848da",
   "metadata": {},
   "outputs": [],
   "source": [
    "# Let's replace these values with int\n",
    "df['Result'].replace({\"n/r\": int(2), \"lost\": int(0),\"won\":int(1),\"tied\":int(3)}, inplace=True)"
   ]
  },
  {
   "cell_type": "code",
   "execution_count": 68,
   "id": "5b5e27e9",
   "metadata": {},
   "outputs": [
    {
     "data": {
      "text/plain": [
       "array(['v England', 'v Bangladesh', 'v South Africa', 'v Pakistan',\n",
       "       'v New Zealand', 'v India', 'v Australia', 'v Afghanistan',\n",
       "       'v West Indies', 'v Ireland', 'v Zimbabwe', 'v Scotland'],\n",
       "      dtype=object)"
      ]
     },
     "execution_count": 68,
     "metadata": {},
     "output_type": "execute_result"
    }
   ],
   "source": [
    "result2 = df['Opposition'].unique()\n",
    "result2"
   ]
  },
  {
   "cell_type": "code",
   "execution_count": 69,
   "id": "cfaa9000",
   "metadata": {},
   "outputs": [],
   "source": [
    "# Let's replace these values with int\n",
    "for i in range(len(result2)):\n",
    "    df['Opposition'].replace({result2[i]: int(i)}, inplace=True)"
   ]
  },
  {
   "cell_type": "code",
   "execution_count": 70,
   "id": "f9ee7ff2",
   "metadata": {},
   "outputs": [
    {
     "data": {
      "text/plain": [
       "array(['The Oval', 'Dhaka', 'Colombo (RPS)', 'Hamilton',\n",
       "       'Hyderabad (Deccan)', 'Cardiff', 'Dambulla', 'Christchurch',\n",
       "       'Centurion', 'Abu Dhabi', 'Pallekele', 'Wellington', 'Durban',\n",
       "       'Port of Spain', 'Hobart', 'Kimberley', 'Hambantota',\n",
       "       'North Sound', 'Port Elizabeth', 'Birmingham', 'Ahmedabad',\n",
       "       'Dublin', 'Bristol', 'Leeds', 'Harare', 'Karachi', 'Dunedin',\n",
       "       \"Lord's\", 'Paarl', 'Sharjah', 'Brisbane', 'Sydney', 'Nottingham',\n",
       "       'Manchester', 'Kingston', 'Fatullah', 'Galle', 'Johannesburg',\n",
       "       'Dubai (DSC)', 'Mount Maunganui', 'Nelson', 'Perth', 'Adelaide',\n",
       "       'Melbourne', 'Ranchi', 'Edinburgh', 'Chester-le-Street',\n",
       "       'Colombo (SSC)', 'Cape Town', 'Mohali', 'Bulawayo',\n",
       "       'Dublin (Malahide)', 'Dharamsala', 'Cuttack', 'Kolkata',\n",
       "       'East London', 'Visakhapatnam', 'Bloemfontein'], dtype=object)"
      ]
     },
     "execution_count": 70,
     "metadata": {},
     "output_type": "execute_result"
    }
   ],
   "source": [
    "result3 = df['Ground'].unique()\n",
    "result3"
   ]
  },
  {
   "cell_type": "code",
   "execution_count": 71,
   "id": "3ba197e7",
   "metadata": {},
   "outputs": [],
   "source": [
    "# Let's replace these values with int\n",
    "for i in range(len(result3)):\n",
    "    df['Ground'].replace({result3[i]: int(i)}, inplace=True)"
   ]
  },
  {
   "cell_type": "code",
   "execution_count": 72,
   "id": "a0d84cab",
   "metadata": {},
   "outputs": [
    {
     "data": {
      "text/plain": [
       "web-scraper-order         object\n",
       "web-scraper-start-url     object\n",
       "Team                      object\n",
       "Score                     object\n",
       "Overs                    float64\n",
       "RPO                       object\n",
       "Inns                       int64\n",
       "Result                     int64\n",
       "Opposition                 int64\n",
       "Ground                     int64\n",
       "Start Date                object\n",
       "dtype: object"
      ]
     },
     "execution_count": 72,
     "metadata": {},
     "output_type": "execute_result"
    }
   ],
   "source": [
    "df.dtypes"
   ]
  },
  {
   "cell_type": "code",
   "execution_count": 73,
   "id": "133c5191",
   "metadata": {},
   "outputs": [
    {
     "data": {
      "text/plain": [
       "array(['4.48', '4.24', '4.52', '4.99', '5.28', '5.00', '4.73', '5.37',\n",
       "       '5.04', '5.63', '5.92', '4.88', '4.60', '7.14', '6.41', '5.74',\n",
       "       '4.91', '3.89', '6.40', '6.24', '7.84', '4.53', '4.98', '6.00',\n",
       "       '3.82', '5.62', '5.17', '4.80', '5.86', '5.08', '5.48', '4.26',\n",
       "       '4.11', '5.06', '4.31', '5.02', '4.38', '4.96', '4.64', '6.39',\n",
       "       '5.72', '6.32', '4.85', '5.94', '4.81', '4.54', '4.34', '5.15',\n",
       "       '5.77', '2.13', '4.89', '3.91', '3.75', '6.14', '7.32', '3.56',\n",
       "       '3.98', '5.84', '4.30', '5.98', '5.21', '4.28', '4.22', '3.85',\n",
       "       '4.20', '5.53', '5.60', '6.34', '4.14', '6.04', '5.65', '3.23',\n",
       "       '5.89', '6.28', '5.46', '4.00', '5.97', '7.26', '4.86', '5.41',\n",
       "       '4.43', '6.29', '6.20', '5.43', '2.79', '4.65', '6.59', '6.18',\n",
       "       '5.16', '6.11', '5.10', '5.45', '4.72', '6.64', '4.97', '4.42',\n",
       "       '4.39', '6.44', '7.36', '6.65', '4.10', '4.59', '5.12', '6.60',\n",
       "       '3.83', '4.40', '5.59', '4.58', '7.00', '5.57', '3.50', '6.43',\n",
       "       '5.76', '5.78', '4.82', '6.30', '3.62', '4.76', '4.36', '5.88',\n",
       "       '4.18', '5.73', '4.83', '4.50', '6.76', '3.64', '5.38', '7.54',\n",
       "       '6.26', '5.51', '4.66', '5.68', '3.21', '6.67', '7.01', '6.90',\n",
       "       '3.96', '6.78', '6.61', '3.73', '4.70', '4.87', '4.95', '6.73',\n",
       "       '4.93', '6.96', '5.81', '4.06', '6.06', '5.23', '3.41', '5.34',\n",
       "       '6.16', '5.18', '4.63', '5.67', '4.79', '4.78', '6.91', '5.32'],\n",
       "      dtype=object)"
      ]
     },
     "execution_count": 73,
     "metadata": {},
     "output_type": "execute_result"
    }
   ],
   "source": [
    "df['RPO'].unique()"
   ]
  },
  {
   "cell_type": "code",
   "execution_count": 74,
   "id": "8312084f",
   "metadata": {},
   "outputs": [],
   "source": [
    "#Change the data type of RPO to int\n",
    "df['RPO'] = pd.to_numeric(df['RPO'])"
   ]
  },
  {
   "cell_type": "code",
   "execution_count": 88,
   "id": "9840624b",
   "metadata": {},
   "outputs": [],
   "source": [
    "# 1. Let's split the data\n",
    "\n",
    "x = df.iloc[:,[5,8,9]].values\n",
    "y = df.iloc[:,7].values\n",
    "\n",
    "x_train,x_test,y_train,y_test = train_test_split(x,y,test_size=0.25,random_state=1) "
   ]
  },
  {
   "cell_type": "code",
   "execution_count": 89,
   "id": "e04619f5",
   "metadata": {},
   "outputs": [],
   "source": [
    "#Creating a list with the models\n",
    "models = []\n",
    "models.append(('LR',LogisticRegression(solver='liblinear',multi_class='ovr')))\n",
    "models.append(('LDA',LinearDiscriminantAnalysis()))\n",
    "models.append(('KNN',KNeighborsClassifier()))\n",
    "models.append(('CART',DecisionTreeClassifier()))\n",
    "models.append(('NB',GaussianNB()))\n",
    "models.append(('RFC',RandomForestClassifier()))\n",
    "# models.append(('LNR',LinearRegression()))\n",
    "models.append(('SVM',SVC(gamma='auto')))"
   ]
  },
  {
   "cell_type": "code",
   "execution_count": 90,
   "id": "8c061815",
   "metadata": {},
   "outputs": [
    {
     "name": "stdout",
     "output_type": "stream",
     "text": [
      "LR: 0.617183 (0.069564)\n",
      "LDA: 0.670683 (0.004016)\n",
      "KNN: 0.634610 (0.020152)\n",
      "CART: 0.568919 (0.009395)\n",
      "NB: 0.706397 (0.031698)\n",
      "RFC: 0.670898 (0.039945)\n",
      "SVM: 0.593158 (0.057444)\n"
     ]
    }
   ],
   "source": [
    "results = []\n",
    "names = []\n",
    "\n",
    "for name,model in models:\n",
    "    kfold = StratifiedKFold(n_splits=2,random_state=1,shuffle=True)\n",
    "    cv_results = cross_val_score(model,x_train,y_train,cv=kfold,scoring='accuracy')\n",
    "    results.append(cv_results)\n",
    "    names.append(name)\n",
    "    print('%s: %f (%f)'%(name,cv_results.mean(),cv_results.std()))\n"
   ]
  },
  {
   "cell_type": "code",
   "execution_count": null,
   "id": "7a031fe6",
   "metadata": {},
   "outputs": [],
   "source": [
    "# Lets find what feature is more important"
   ]
  },
  {
   "cell_type": "code",
   "execution_count": 102,
   "id": "98908d72",
   "metadata": {},
   "outputs": [
    {
     "name": "stdout",
     "output_type": "stream",
     "text": [
      "Feature: 0, Score: 0.05357\n",
      "Feature: 1, Score: 0.04643\n",
      "Feature: 2, Score: -0.02143\n"
     ]
    },
    {
     "data": {
      "image/png": "[encoded data removed]",
      "text/plain": [
       "<Figure size 432x288 with 1 Axes>"
      ]
     },
     "metadata": {
      "needs_background": "light"
     },
     "output_type": "display_data"
    }
   ],
   "source": [
    "#Now Let's Try with our selected best case of GaussianNB\n",
    "\n",
    "model = GaussianNB()\n",
    "# fit the model\n",
    "model.fit(x_train, y_train)\n",
    "\n",
    "# get importance\n",
    "imps = permutation_importance(model, x_test, y_test)\n",
    "\n",
    "# print(imps.importances_mean)\n",
    "\n",
    "# summarize feature importance\n",
    "for i,v in enumerate(imps.importances_mean):\n",
    "#     print(importance[i])\n",
    "\tprint('Feature: %0d, Score: %.5f' % (i,v))\n",
    "    \n",
    "# plot feature importance\n",
    "plt.bar([x for x in range(len(importance))], importance)\n",
    "plt.show()"
   ]
  },
  {
   "cell_type": "code",
   "execution_count": 95,
   "id": "d1702ecf",
   "metadata": {},
   "outputs": [
    {
     "name": "stdout",
     "output_type": "stream",
     "text": [
      "Feature: 0, Score: 0.50143\n",
      "Feature: 1, Score: 0.18324\n",
      "Feature: 2, Score: 0.31533\n"
     ]
    },
    {
     "data": {
      "image/png": "[encoded data removed]",
      "text/plain": [
       "<Figure size 432x288 with 1 Axes>"
      ]
     },
     "metadata": {
      "needs_background": "light"
     },
     "output_type": "display_data"
    }
   ],
   "source": [
    "#Now Let's Try with our selected second best case of RandomForestClassifier\n",
    "\n",
    "model = RandomForestClassifier()\n",
    "# fit the model\n",
    "model.fit(x_train, y_train)\n",
    "\n",
    "# get importance\n",
    "importance = model.feature_importances_\n",
    "\n",
    "# summarize feature importance\n",
    "for i,v in enumerate(importance):\n",
    "#     print(importance[i])\n",
    "\tprint('Feature: %0d, Score: %.5f' % (i,v))\n",
    "    \n",
    "# plot feature importance\n",
    "plt.bar([x for x in range(len(importance))], importance)\n",
    "plt.show()"
   ]
  },
  {
   "cell_type": "code",
   "execution_count": null,
   "id": "b46fa93a",
   "metadata": {},
   "outputs": [],
   "source": [
    "# The RPO has the most significance "
   ]
  }
 ],
 "metadata": {
  "kernelspec": {
   "display_name": "Python 3",
   "language": "python",
   "name": "python3"
  },
  "language_info": {
   "codemirror_mode": {
    "name": "ipython",
    "version": 3
   },
   "file_extension": ".py",
   "mimetype": "text/x-python",
   "name": "python",
   "nbconvert_exporter": "python",
   "pygments_lexer": "ipython3",
   "version": "3.9.4"
  }
 },
 "nbformat": 4,
 "nbformat_minor": 5
}
